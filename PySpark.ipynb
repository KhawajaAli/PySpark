{
 "cells": [
  {
   "cell_type": "code",
   "execution_count": 2,
   "metadata": {},
   "outputs": [],
   "source": [
    "from pyspark.sql import SparkSession\n",
    "\n",
    "spark = SparkSession \\\n",
    "    .builder \\\n",
    "    .appName(\"Python Spark SQL basic example\") \\\n",
    "    .config(\"spark.some.config.option\", \"some-value\") \\\n",
    "    .getOrCreate()"
   ]
  },
  {
   "cell_type": "code",
   "execution_count": 3,
   "metadata": {},
   "outputs": [
    {
     "name": "stdout",
     "output_type": "stream",
     "text": [
      "+----+-------+\n",
      "| age|   name|\n",
      "+----+-------+\n",
      "|null|Michael|\n",
      "|  30|   Andy|\n",
      "|  19| Justin|\n",
      "+----+-------+\n",
      "\n"
     ]
    }
   ],
   "source": [
    "df = spark.read.json(\"/people.json\")\n",
    "# Displays the content of the DataFrame to stdout\n",
    "df.show()"
   ]
  },
  {
   "cell_type": "code",
   "execution_count": 4,
   "metadata": {},
   "outputs": [
    {
     "data": {
      "text/plain": [
       "Row(Year=2008, Month=1, DayofMonth=3, DayOfWeek=4, DepTime=u'2003', CRSDepTime=1955, ArrTime=u'2211', CRSArrTime=2225, UniqueCarrier=u'WN', FlightNum=335, TailNum=u'N712SW', ActualElapsedTime=u'128', CRSElapsedTime=u'150', AirTime=u'116', ArrDelay=u'-14', DepDelay=u'8', Origin=u'IAD', Dest=u'TPA', Distance=810, TaxiIn=u'4', TaxiOut=u'8', Cancelled=0, CancellationCode=None, Diverted=0, CarrierDelay=u'NA', WeatherDelay=u'NA', NASDelay=u'NA', SecurityDelay=u'NA', LateAircraftDelay=u'NA')"
      ]
     },
     "execution_count": 4,
     "metadata": {},
     "output_type": "execute_result"
    }
   ],
   "source": [
    "import pandas as pd\n",
    "\n",
    "data = sqlContext.read.format('csv').options(header='true', inferSchema='true').load('2008.csv')\n",
    "#pd=spark.read.csv(\"2008.csv\", header='None')\n",
    "\n",
    "data.first()\n",
    "\n"
   ]
  },
  {
   "cell_type": "code",
   "execution_count": 5,
   "metadata": {},
   "outputs": [
    {
     "name": "stdout",
     "output_type": "stream",
     "text": [
      "root\n",
      " |-- Year: integer (nullable = true)\n",
      " |-- Month: integer (nullable = true)\n",
      " |-- DayofMonth: integer (nullable = true)\n",
      " |-- DayOfWeek: integer (nullable = true)\n",
      " |-- DepTime: string (nullable = true)\n",
      " |-- CRSDepTime: integer (nullable = true)\n",
      " |-- ArrTime: string (nullable = true)\n",
      " |-- CRSArrTime: integer (nullable = true)\n",
      " |-- UniqueCarrier: string (nullable = true)\n",
      " |-- FlightNum: integer (nullable = true)\n",
      " |-- TailNum: string (nullable = true)\n",
      " |-- ActualElapsedTime: string (nullable = true)\n",
      " |-- CRSElapsedTime: string (nullable = true)\n",
      " |-- AirTime: string (nullable = true)\n",
      " |-- ArrDelay: string (nullable = true)\n",
      " |-- DepDelay: string (nullable = true)\n",
      " |-- Origin: string (nullable = true)\n",
      " |-- Dest: string (nullable = true)\n",
      " |-- Distance: integer (nullable = true)\n",
      " |-- TaxiIn: string (nullable = true)\n",
      " |-- TaxiOut: string (nullable = true)\n",
      " |-- Cancelled: integer (nullable = true)\n",
      " |-- CancellationCode: string (nullable = true)\n",
      " |-- Diverted: integer (nullable = true)\n",
      " |-- CarrierDelay: string (nullable = true)\n",
      " |-- WeatherDelay: string (nullable = true)\n",
      " |-- NASDelay: string (nullable = true)\n",
      " |-- SecurityDelay: string (nullable = true)\n",
      " |-- LateAircraftDelay: string (nullable = true)\n",
      "\n"
     ]
    },
    {
     "data": {
      "text/plain": [
       "[('Year', 'int'),\n",
       " ('Month', 'int'),\n",
       " ('DayofMonth', 'int'),\n",
       " ('DayOfWeek', 'int'),\n",
       " ('DepTime', 'string'),\n",
       " ('CRSDepTime', 'int'),\n",
       " ('ArrTime', 'string'),\n",
       " ('CRSArrTime', 'int'),\n",
       " ('UniqueCarrier', 'string'),\n",
       " ('FlightNum', 'int'),\n",
       " ('TailNum', 'string'),\n",
       " ('ActualElapsedTime', 'string'),\n",
       " ('CRSElapsedTime', 'string'),\n",
       " ('AirTime', 'string'),\n",
       " ('ArrDelay', 'string'),\n",
       " ('DepDelay', 'string'),\n",
       " ('Origin', 'string'),\n",
       " ('Dest', 'string'),\n",
       " ('Distance', 'int'),\n",
       " ('TaxiIn', 'string'),\n",
       " ('TaxiOut', 'string'),\n",
       " ('Cancelled', 'int'),\n",
       " ('CancellationCode', 'string'),\n",
       " ('Diverted', 'int'),\n",
       " ('CarrierDelay', 'string'),\n",
       " ('WeatherDelay', 'string'),\n",
       " ('NASDelay', 'string'),\n",
       " ('SecurityDelay', 'string'),\n",
       " ('LateAircraftDelay', 'string')]"
      ]
     },
     "execution_count": 5,
     "metadata": {},
     "output_type": "execute_result"
    }
   ],
   "source": [
    "pd=data\n",
    "# spark, df are from the previous example\n",
    "# Print the schema in a tree format\n",
    "pd.printSchema()\n",
    "pd.dtypes\n",
    "\n"
   ]
  },
  {
   "cell_type": "code",
   "execution_count": 7,
   "metadata": {},
   "outputs": [],
   "source": [
    "#pd.summary()"
   ]
  },
  {
   "cell_type": "code",
   "execution_count": 5,
   "metadata": {},
   "outputs": [
    {
     "name": "stdout",
     "output_type": "stream",
     "text": [
      "+-------+-----------------+\n",
      "|summary|     WeatherDelay|\n",
      "+-------+-----------------+\n",
      "|  count|          7009728|\n",
      "|   mean|3.039031044738922|\n",
      "| stddev|19.50287413039825|\n",
      "|    min|                0|\n",
      "|    max|               NA|\n",
      "+-------+-----------------+\n",
      "\n"
     ]
    }
   ],
   "source": [
    "#pd.dtypes\n",
    "pd.describe(\"WeatherDelay\").show()\n",
    "\n",
    "#pd.stat.approxQuantile(\"Year\",(0.25,0.5,0.75),0.0)"
   ]
  },
  {
   "cell_type": "code",
   "execution_count": 9,
   "metadata": {},
   "outputs": [
    {
     "name": "stdout",
     "output_type": "stream",
     "text": [
      "+---------+-------+\n",
      "|Cancelled|  count|\n",
      "+---------+-------+\n",
      "|        1| 137434|\n",
      "|        0|6872294|\n",
      "+---------+-------+\n",
      "\n",
      "+------+-----+\n",
      "|Origin|count|\n",
      "+------+-----+\n",
      "|   BGM|  728|\n",
      "|   PSE|  755|\n",
      "|   DLG|  116|\n",
      "|   INL|   72|\n",
      "|   MSY|39422|\n",
      "|   GEG|15560|\n",
      "|   SNA|47376|\n",
      "|   BUR|31405|\n",
      "|   GRB| 7930|\n",
      "|   GTF| 2140|\n",
      "|   IDA| 3103|\n",
      "|   GRR|16616|\n",
      "|   LWB|  185|\n",
      "|   EUG| 5749|\n",
      "|   PSG|  727|\n",
      "|   PVD|22509|\n",
      "|   GSO|13558|\n",
      "|   MYR| 5335|\n",
      "|   OAK|62535|\n",
      "|   MSN|13961|\n",
      "+------+-----+\n",
      "only showing top 20 rows\n",
      "\n",
      "+----+-----+\n",
      "|Dest|count|\n",
      "+----+-----+\n",
      "| BGM|  728|\n",
      "| PSE|  753|\n",
      "| DLG|  116|\n",
      "| INL|   72|\n",
      "| MSY|39423|\n",
      "| GEG|15552|\n",
      "| BUR|31403|\n",
      "| SNA|47376|\n",
      "| GRB| 7929|\n",
      "| GTF| 2138|\n",
      "| IDA| 3110|\n",
      "| GRR|16620|\n",
      "| LWB|  185|\n",
      "| EUG| 5752|\n",
      "| PSG|  727|\n",
      "| PVD|22500|\n",
      "| GSO|13549|\n",
      "| MYR| 5332|\n",
      "| OAK|62533|\n",
      "| MSN|13956|\n",
      "+----+-----+\n",
      "only showing top 20 rows\n",
      "\n"
     ]
    }
   ],
   "source": [
    "pd.groupBy(\"Cancelled\").count().show()\n",
    "pd.groupBy(\"Origin\").count().show()\n",
    "\n",
    "pd.groupBy(\"SecurityDelay\").count().show()\n",
    "\n",
    "#pd.select(\"Cancelled\").show()\n",
    "\n",
    "#pd.select(pd['Year'], pd['Month'] + 1).show()\n",
    "# +-------+---------+\n",
    "\n",
    "# Select people older than 21\n",
    "#pd.filter(pd['Distance'] > 21).show()\n",
    "# Count people by age\n"
   ]
  },
  {
   "cell_type": "code",
   "execution_count": 13,
   "metadata": {},
   "outputs": [
    {
     "data": {
      "text/plain": [
       "Row(Year=2008, Month=1, DayofMonth=3, DayOfWeek=4, DepTime=u'2003', CRSDepTime=1955, ArrTime=u'2211', CRSArrTime=2225, UniqueCarrier=u'WN', FlightNum=335, TailNum=u'N712SW', ActualElapsedTime=u'128', CRSElapsedTime=u'150', AirTime=u'116', ArrDelay=u'-14', DepDelay=u'8', Origin=u'IAD', Dest=u'TPA', Distance=810, TaxiIn=u'4', TaxiOut=u'8', Cancelled=0, CancellationCode=None, Diverted=0, CarrierDelay=u'NA', WeatherDelay=u'NA', NASDelay=u'NA', SecurityDelay=u'NA', LateAircraftDelay=u'NA')"
      ]
     },
     "execution_count": 13,
     "metadata": {},
     "output_type": "execute_result"
    }
   ],
   "source": [
    "pd.head()\n"
   ]
  },
  {
   "cell_type": "code",
   "execution_count": 9,
   "metadata": {},
   "outputs": [],
   "source": [
    "from __future__ import division, print_function\n",
    "from matplotlib import pyplot as plt\n",
    "# In a notebook environment, display the plots inline\n",
    "%matplotlib inline\n",
    "\n",
    "# Set some parameters to apply to all plots. These can be overridden\n",
    "# in each plot if desired\n",
    "import matplotlib\n",
    "# Plot size to 14\" x 7\"\n",
    "matplotlib.rc('figure', figsize = (14, 7))\n",
    "# Font size to 14\n",
    "matplotlib.rc('font', size = 14)\n",
    "# Do not display top and right frame lines\n",
    "matplotlib.rc('axes.spines', top = False, right = False)\n",
    "# Remove grid lines\n",
    "matplotlib.rc('axes', grid = False)\n",
    "# Set backgound color to white\n",
    "matplotlib.rc('axes', facecolor = 'white')"
   ]
  },
  {
   "cell_type": "code",
   "execution_count": null,
   "metadata": {},
   "outputs": [],
   "source": [
    "# Define a function to create the scatterplot. This makes it easy to\n",
    "# reuse code within and across notebooks\n",
    "\n",
    "def scatterplot(x_data, y_data, x_label, y_label, title):\n",
    "\n",
    "    # Create the plot object\n",
    "    _, ax = plt.subplots()\n",
    "\n",
    "    # Plot the data, set the size (s), color and transparency (alpha)\n",
    "    # of the points\n",
    "    ax.scatter(x_data, y_data, s = 30, color = '#539caf', alpha = 0.75)\n",
    "\n",
    "    # Label the axes and provide a title\n",
    "    ax.set_title(title)\n",
    "    ax.set_xlabel(x_label)\n",
    "    ax.set_ylabel(y_label)\n",
    "\n",
    "# Call the function to create plot\n",
    "scatterplot(x_data = pd['FlightNum']\n",
    "            , y_data = pd['Cancelled']\n",
    "            , x_label = 'Flight Number'\n",
    "            , y_label = 'Cancelled'\n",
    "            , title = 'Flights vs Cancelled')"
   ]
  }
 ],
 "metadata": {
  "kernelspec": {
   "display_name": "Python 2",
   "language": "python",
   "name": "python2"
  },
  "language_info": {
   "codemirror_mode": {
    "name": "ipython",
    "version": 2
   },
   "file_extension": ".py",
   "mimetype": "text/x-python",
   "name": "python",
   "nbconvert_exporter": "python",
   "pygments_lexer": "ipython2",
   "version": "2.7.12"
  }
 },
 "nbformat": 4,
 "nbformat_minor": 2
}
